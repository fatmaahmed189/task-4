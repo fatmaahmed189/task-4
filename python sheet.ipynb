{
 "cells": [
  {
   "cell_type": "markdown",
   "id": "759d04ba",
   "metadata": {},
   "source": [
    "**1-Write a Python program to calculate the length of a string using 2 ways"
   ]
  },
  {
   "cell_type": "code",
   "execution_count": 1,
   "id": "e434c950",
   "metadata": {
    "ExecuteTime": {
     "end_time": "2023-03-20T15:14:04.375439Z",
     "start_time": "2023-03-20T15:13:24.982220Z"
    }
   },
   "outputs": [
    {
     "name": "stdout",
     "output_type": "stream",
     "text": [
      "Enter a string: fatma\n",
      "Length of the input string is: 5\n"
     ]
    }
   ],
   "source": [
    "str = input(\"Enter a string: \")\n",
    "counter = 0\n",
    "for n in str:\n",
    "    counter = counter+1\n",
    "print(\"Length of the string is:\", counter)"
   ]
  },
  {
   "cell_type": "code",
   "execution_count": 2,
   "id": "7a2dfa32",
   "metadata": {
    "ExecuteTime": {
     "end_time": "2023-03-20T15:14:10.077453Z",
     "start_time": "2023-03-20T15:14:10.056449Z"
    }
   },
   "outputs": [
    {
     "name": "stdout",
     "output_type": "stream",
     "text": [
      "5\n"
     ]
    }
   ],
   "source": [
    "str = \"fatma\"\n",
    "print(len(str))"
   ]
  },
  {
   "cell_type": "markdown",
   "id": "d7cc9da7",
   "metadata": {},
   "source": [
    "**2-Write a Python program to get a string made of the first 2 and last 2 characters of a given string. If the string length is less than 2, return the empty string instead (\"##Sample String : 'w3resource'\n",
    "Expected Result : 'w3ce'\n",
    "##Sample String : 'w3'\n",
    "Expected Result : 'w3w3'\n",
    "##Sample String : ' w'\n",
    "Expected Result : Empty String)"
   ]
  },
  {
   "cell_type": "code",
   "execution_count": 3,
   "id": "dafa9dd8",
   "metadata": {
    "ExecuteTime": {
     "end_time": "2023-03-20T15:16:50.471922Z",
     "start_time": "2023-03-20T15:16:50.451930Z"
    }
   },
   "outputs": [
    {
     "name": "stdout",
     "output_type": "stream",
     "text": [
      "w3ce\n",
      "w3w3\n",
      "\n"
     ]
    }
   ],
   "source": [
    "def string_both_ends(str):\n",
    "  if len(str) < 2:\n",
    "    return ''\n",
    "\n",
    "  return str[0:2] + str[-2:]\n",
    "\n",
    "print(string_both_ends('w3resource'))\n",
    "print(string_both_ends('w3'))\n",
    "print(string_both_ends('w'))"
   ]
  },
  {
   "cell_type": "markdown",
   "id": "1534f956",
   "metadata": {},
   "source": [
    "**3-Write a Python program to add 'ing' at the end of a given string (length should be at least 3). If the given string already ends with 'ing', add 'ly' instead. If the string length of the given string is less than 3, leave it unchanged. (Sample String : 'abc'\n",
    "Expected Result : 'abcing')"
   ]
  },
  {
   "cell_type": "code",
   "execution_count": 7,
   "id": "7ff8cec4",
   "metadata": {
    "ExecuteTime": {
     "end_time": "2023-03-20T15:18:25.757126Z",
     "start_time": "2023-03-20T15:18:25.739120Z"
    },
    "scrolled": true
   },
   "outputs": [
    {
     "name": "stdout",
     "output_type": "stream",
     "text": [
      "ng\n",
      "longing\n",
      "playingly\n"
     ]
    }
   ],
   "source": [
    "def add_string(str):\n",
    "    length = len(str)\n",
    "\n",
    "    if length > 2:\n",
    "        if str[-3:] == 'ing':\n",
    "            str += 'ly'\n",
    "        else:\n",
    "            str += 'ing'\n",
    "\n",
    "    return str\n",
    "\n",
    "\n",
    "print(add_string('ng'))\n",
    "print(add_string('long'))\n",
    "print(add_string('playing'))"
   ]
  },
  {
   "cell_type": "markdown",
   "id": "1c0a6627",
   "metadata": {},
   "source": [
    "**4-Write a Python function that takes a list of words and return the longest word and the length of the longest one\n",
    "(Longest word: Exercises\n",
    "Length of the longest word: 9)"
   ]
  },
  {
   "cell_type": "code",
   "execution_count": null,
   "id": "397341d9",
   "metadata": {},
   "outputs": [],
   "source": [
    "def find_longest_word(words_list):\n",
    "    word_len = []\n",
    "    for n in words_list:\n",
    "        word_len.append((len(n), n))\n",
    "    word_len.sort()\n",
    "    return word_len[-1][0], word_len[-1][1]\n",
    "result = find_longest_word([\"PHP\", \"Exercises\", \"Backend\"])\n",
    "print(\"\\nLongest word: \",result[1])\n",
    "print(\"Length of the longest word: \",result[0])"
   ]
  },
  {
   "cell_type": "markdown",
   "id": "53a03a6a",
   "metadata": {},
   "source": [
    "**5-Write a Python program to change a given string to a newly string where the first and last chars have been exchanged using 2 ways (Sample String:abca  Expected Result:ebce)"
   ]
  },
  {
   "cell_type": "code",
   "execution_count": 9,
   "id": "fd327d2a",
   "metadata": {
    "ExecuteTime": {
     "end_time": "2023-03-20T15:31:02.639624Z",
     "start_time": "2023-03-20T15:31:02.618624Z"
    }
   },
   "outputs": [
    {
     "name": "stdout",
     "output_type": "stream",
     "text": [
      "aatmf\n",
      "52341\n"
     ]
    }
   ],
   "source": [
    "def change_sring(str ):\n",
    "      return str[-1:] + str[1:-1] + str[:1]\n",
    "\t  \n",
    "print(change_sring('fatma'))\n",
    "print(change_sring('12345'))"
   ]
  },
  {
   "cell_type": "code",
   "execution_count": null,
   "id": "285788b4",
   "metadata": {},
   "outputs": [],
   "source": []
  },
  {
   "cell_type": "markdown",
   "id": "25f89808",
   "metadata": {},
   "source": [
    "**6-Write a Python program to remove characters that have odd index values in a given string (Sample String:abca Expected Result:ac)"
   ]
  },
  {
   "cell_type": "code",
   "execution_count": 10,
   "id": "05959bd7",
   "metadata": {
    "ExecuteTime": {
     "end_time": "2023-03-20T15:33:15.032906Z",
     "start_time": "2023-03-20T15:33:15.019903Z"
    }
   },
   "outputs": [
    {
     "name": "stdout",
     "output_type": "stream",
     "text": [
      "ace\n",
      "pto\n"
     ]
    }
   ],
   "source": [
    "def odd_values_string(str):\n",
    "  result = \"\" \n",
    "  for i in range(len(str)):\n",
    "    if i % 2 == 0:\n",
    "      result = result + str[i]\n",
    "  return result\n",
    "\n",
    "print(odd_values_string('abc'))\n",
    "print(odd_values_string('python'))"
   ]
  },
  {
   "cell_type": "markdown",
   "id": "eb16e898",
   "metadata": {},
   "source": [
    "**7-Write a Python program to count the occurrences of each word in a given sentence (Sample String:amr and ahmed are frindes but amr is the tallest Expected Result:2)\n"
   ]
  },
  {
   "cell_type": "code",
   "execution_count": 3,
   "id": "f13f490d",
   "metadata": {
    "ExecuteTime": {
     "end_time": "2023-03-26T23:42:51.441445Z",
     "start_time": "2023-03-26T23:42:51.416365Z"
    }
   },
   "outputs": [
    {
     "name": "stdout",
     "output_type": "stream",
     "text": [
      "{'amr': 2, 'and': 1, 'ahmed': 1, 'are': 1, 'frindes': 1, 'but': 1, 'is': 1, 'the': 1, 'tallest': 1}\n"
     ]
    }
   ],
   "source": [
    "def word_count(str):\n",
    "    counts = dict()\n",
    "    words = str.split()\n",
    "\n",
    "    for word in words:\n",
    "        if word in counts:\n",
    "            counts[word] += 1\n",
    "        else:\n",
    "            counts[word] = 1\n",
    "\n",
    "    return counts\n",
    "\n",
    "print( word_count('amr and ahmed are frindes but amr is the tallest'))"
   ]
  },
  {
   "cell_type": "markdown",
   "id": "4e8125f1",
   "metadata": {},
   "source": [
    "**8-Write a Python script that takes input from the user and displays that input back in upper and lower cases"
   ]
  },
  {
   "cell_type": "code",
   "execution_count": 4,
   "id": "66c8f778",
   "metadata": {
    "ExecuteTime": {
     "end_time": "2023-03-26T23:49:42.301072Z",
     "start_time": "2023-03-26T23:49:37.468153Z"
    }
   },
   "outputs": [
    {
     "name": "stdout",
     "output_type": "stream",
     "text": [
      "Enter the String :FATMA\n",
      "Given String : FATMA\n",
      "UpperCase :FATMA\n",
      "LowerCase :fatma\n"
     ]
    }
   ],
   "source": [
    "str = input(\"Enter the String :\")\n",
    "print(\"Given String :\",str)\n",
    "print(\"UpperCase :\"+ str.upper())\n",
    "print(\"LowerCase :\"+ str.lower())"
   ]
  },
  {
   "cell_type": "markdown",
   "id": "fcd68aa1",
   "metadata": {},
   "source": [
    "**9-Write a Python function to reverse a string if its length is a multiple of 4"
   ]
  },
  {
   "cell_type": "code",
   "execution_count": 10,
   "id": "0671a931",
   "metadata": {
    "ExecuteTime": {
     "end_time": "2023-03-26T23:53:16.054809Z",
     "start_time": "2023-03-26T23:53:16.030696Z"
    },
    "scrolled": true
   },
   "outputs": [
    {
     "name": "stdout",
     "output_type": "stream",
     "text": [
      "fatma\n",
      "bnma\n"
     ]
    }
   ],
   "source": [
    "def reverse_string(str1):\n",
    "    if len(str1) % 4 == 0:\n",
    "       return ''.join(reversed(str1))\n",
    "    return str1\n",
    "\n",
    "print(reverse_string('fatma'))\n",
    "print(reverse_string('amnb'))"
   ]
  },
  {
   "cell_type": "markdown",
   "id": "b577c68d",
   "metadata": {},
   "source": [
    "**10- Write a Python program to remove a newline in Python"
   ]
  },
  {
   "cell_type": "code",
   "execution_count": 14,
   "id": "e0c6525a",
   "metadata": {
    "ExecuteTime": {
     "end_time": "2023-03-27T00:00:29.658312Z",
     "start_time": "2023-03-27T00:00:29.648127Z"
    }
   },
   "outputs": [
    {
     "name": "stdout",
     "output_type": "stream",
     "text": [
      "\n",
      " i can do it\n"
     ]
    }
   ],
   "source": [
    "str1 = \"\\n i can do it  \\n\"\n",
    "newstr = str1.rstrip()\n",
    "print(newstr)"
   ]
  },
  {
   "cell_type": "markdown",
   "id": "80db5ae0",
   "metadata": {},
   "source": [
    "**11-Write a Python program to check whether a string starts with specified characters"
   ]
  },
  {
   "cell_type": "code",
   "execution_count": 2,
   "id": "0cc4e03e",
   "metadata": {
    "ExecuteTime": {
     "end_time": "2023-03-27T09:07:33.621401Z",
     "start_time": "2023-03-27T09:07:33.595402Z"
    }
   },
   "outputs": [
    {
     "name": "stdout",
     "output_type": "stream",
     "text": [
      "True\n"
     ]
    }
   ],
   "source": [
    "string = \"@yahoo\"\n",
    "print(string.startswith(\"@\"))"
   ]
  },
  {
   "cell_type": "markdown",
   "id": "593a68db",
   "metadata": {},
   "source": [
    "**12- Write a Python program to add prefix text to all of the lines in a string"
   ]
  },
  {
   "cell_type": "code",
   "execution_count": null,
   "id": "d2e46ada",
   "metadata": {},
   "outputs": [],
   "source": []
  },
  {
   "cell_type": "markdown",
   "id": "86fa1543",
   "metadata": {},
   "source": [
    "**13-Write a Python program to print the following numbers up to 2 decimal places"
   ]
  },
  {
   "cell_type": "code",
   "execution_count": 4,
   "id": "cd4a9d89",
   "metadata": {
    "ExecuteTime": {
     "end_time": "2023-06-09T11:01:52.500857Z",
     "start_time": "2023-06-09T11:01:52.486853Z"
    }
   },
   "outputs": [
    {
     "name": "stdout",
     "output_type": "stream",
     "text": [
      "\n",
      " Original Number:  5.27364\n",
      "Formatted Number: 5.27\n",
      "Original Number:  4.8756\n",
      "Formatted Number: 4.88\n",
      "\n"
     ]
    }
   ],
   "source": [
    "x = 5.27364\n",
    "y = 4.8756\n",
    "print(\"\\nOriginal Number: \", x)\n",
    "print(\"Formatted Number: \"+\"{:.2f}\".format(x));\n",
    "print(\"Original Number: \", y)\n",
    "print(\"Formatted Number: \"+\"{:.2f}\".format(y));\n",
    "print() "
   ]
  },
  {
   "cell_type": "markdown",
   "id": "452c0ab0",
   "metadata": {},
   "source": [
    "**14-Write a Python program to print the following numbers up to 2 decimal places with a sign"
   ]
  },
  {
   "cell_type": "code",
   "execution_count": 7,
   "id": "73e82479",
   "metadata": {
    "ExecuteTime": {
     "end_time": "2023-06-09T11:04:49.225331Z",
     "start_time": "2023-06-09T11:04:49.214317Z"
    }
   },
   "outputs": [
    {
     "name": "stdout",
     "output_type": "stream",
     "text": [
      "\n",
      "Original Number:  5.27364\n",
      "Formatted Number with sign: +5.27\n",
      "Original Number:  -4.8756\n",
      "Formatted Number with sign: -4.88\n",
      "\n"
     ]
    }
   ],
   "source": [
    "x = 5.27364\n",
    "y = -4.8756\n",
    "print(\"\\nOriginal Number: \", x)\n",
    "print(\"Formatted Number with sign: \"+\"{:+.2f}\".format(x));\n",
    "print(\"Original Number: \", y)\n",
    "print(\"Formatted Number with sign: \"+\"{:+.2f}\".format(y));\n",
    "print()"
   ]
  },
  {
   "cell_type": "markdown",
   "id": "32b1811a",
   "metadata": {},
   "source": [
    "**15-Write a Python program to display a number with a comma separator"
   ]
  },
  {
   "cell_type": "code",
   "execution_count": 4,
   "id": "f30fc0b6",
   "metadata": {
    "ExecuteTime": {
     "end_time": "2023-03-27T09:11:11.408319Z",
     "start_time": "2023-03-27T09:11:11.388322Z"
    },
    "scrolled": true
   },
   "outputs": [
    {
     "name": "stdout",
     "output_type": "stream",
     "text": [
      "\n",
      "Original Number:  1000000\n",
      "Formatted Number with comma separator: 1,000,000\n",
      "Original Number:  30000000\n",
      "Formatted Number with comma separator: 30,000,000\n",
      "\n"
     ]
    }
   ],
   "source": [
    "a = 1000000\n",
    "b = 30000000\n",
    "print(\"\\nOriginal Number: \", a)\n",
    "print(\"Formatted Number with comma separator: \"+\"{:,}\".format(a));\n",
    "print(\"Original Number: \", b)\n",
    "print(\"Formatted Number with comma separator: \"+\"{:,}\".format(b));\n",
    "print()"
   ]
  },
  {
   "cell_type": "markdown",
   "id": "0477f487",
   "metadata": {},
   "source": [
    "**16-Write a Python program to reverse a string using 2 ways"
   ]
  },
  {
   "cell_type": "code",
   "execution_count": 12,
   "id": "aa8beec8",
   "metadata": {
    "ExecuteTime": {
     "end_time": "2023-06-09T11:09:39.066230Z",
     "start_time": "2023-06-09T11:09:39.047206Z"
    }
   },
   "outputs": [
    {
     "name": "stdout",
     "output_type": "stream",
     "text": [
      "amtaf si eman ym\n"
     ]
    }
   ],
   "source": [
    "def my_function(x):\n",
    "  return x[::-1]\n",
    "\n",
    "mytxt = my_function(\"my name is fatma\")\n",
    "\n",
    "print(mytxt)\n"
   ]
  },
  {
   "cell_type": "code",
   "execution_count": 11,
   "id": "c466e06a",
   "metadata": {
    "ExecuteTime": {
     "end_time": "2023-06-09T11:09:37.148207Z",
     "start_time": "2023-06-09T11:09:37.119210Z"
    }
   },
   "outputs": [
    {
     "name": "stdout",
     "output_type": "stream",
     "text": [
      "demha amtaf\n"
     ]
    }
   ],
   "source": [
    "txt = \"fatma ahmed\" [::-1]\n",
    "print(txt)"
   ]
  },
  {
   "cell_type": "code",
   "execution_count": 14,
   "id": "93eb556a",
   "metadata": {
    "ExecuteTime": {
     "end_time": "2023-06-09T11:10:23.621596Z",
     "start_time": "2023-06-09T11:10:23.605590Z"
    }
   },
   "outputs": [
    {
     "name": "stdout",
     "output_type": "stream",
     "text": [
      "The original string is:  fatma ahmed\n",
      "The reverse string is demha amtaf\n"
     ]
    }
   ],
   "source": [
    "def reverse_string(str):  \n",
    "    str1 = \"\"   \n",
    "    for i in str:  \n",
    "        str1 = i + str1  \n",
    "    return str1    \n",
    "     \n",
    "str = \"fatma ahmed\"        \n",
    "print(\"The original string is: \",str)  \n",
    "print(\"The reverse string is\",reverse_string(str)) "
   ]
  },
  {
   "cell_type": "markdown",
   "id": "5afc3166",
   "metadata": {},
   "source": [
    " **17-Write a Python program to count repeated characters in a string (hint:use dictionary)"
   ]
  },
  {
   "cell_type": "code",
   "execution_count": 33,
   "id": "515a469c",
   "metadata": {
    "ExecuteTime": {
     "end_time": "2023-03-27T09:31:08.424605Z",
     "start_time": "2023-03-27T09:31:08.411615Z"
    }
   },
   "outputs": [
    {
     "name": "stdout",
     "output_type": "stream",
     "text": [
      "{'F', 'A', 'S'}\n"
     ]
    }
   ],
   "source": [
    "def find_duplicate_chars(string):\n",
    "    unique_chars = set()\n",
    "    duplicate_chars = set()\n",
    "    for char in string:\n",
    "        if char in unique_chars:\n",
    "            duplicate_chars.add(char)\n",
    "        else:\n",
    "            unique_chars.add(char)\n",
    "    return duplicate_chars\n",
    "print(find_duplicate_chars(\"AASSFFUS\"))"
   ]
  },
  {
   "cell_type": "markdown",
   "id": "ae14e4e5",
   "metadata": {},
   "source": [
    "**18-Write a Python program to find the first non-repeating character in a given string"
   ]
  },
  {
   "cell_type": "code",
   "execution_count": 21,
   "id": "d73778e5",
   "metadata": {
    "ExecuteTime": {
     "end_time": "2023-06-09T11:16:50.880287Z",
     "start_time": "2023-06-09T11:16:50.864285Z"
    }
   },
   "outputs": [
    {
     "name": "stdout",
     "output_type": "stream",
     "text": [
      "First Non-Repeating Character =  s\n"
     ]
    }
   ],
   "source": [
    "def RepeatingFunc(myStr):\n",
    "    char_order = []\n",
    "    counts = {}\n",
    "\n",
    "    for c in myStr:\n",
    "        if c in counts:\n",
    "            counts[c] += 1\n",
    "        else:\n",
    "            counts[c] = 1\n",
    "            char_order.append(c)\n",
    "    for c in char_order:\n",
    "        if counts[c] == 1:\n",
    "            return c\n",
    "    return None\n",
    "print(\"First Non-Repeating Character = \",RepeatingFunc('dadadasd'))\n"
   ]
  },
  {
   "cell_type": "markdown",
   "id": "3adf5669",
   "metadata": {},
   "source": [
    "**19-Write a Python program to remove spaces from a given string"
   ]
  },
  {
   "cell_type": "code",
   "execution_count": 38,
   "id": "b4f22602",
   "metadata": {
    "ExecuteTime": {
     "end_time": "2023-03-27T14:09:18.193261Z",
     "start_time": "2023-03-27T14:09:18.180262Z"
    }
   },
   "outputs": [
    {
     "name": "stdout",
     "output_type": "stream",
     "text": [
      "fatma\n"
     ]
    }
   ],
   "source": [
    "def remove(string):\n",
    "    return string.replace(\" \", \"\")\n",
    "string = ' f a t m a '\n",
    "print(remove(string))"
   ]
  },
  {
   "cell_type": "markdown",
   "id": "734de60c",
   "metadata": {},
   "source": [
    "**20-Write a Python program to count the number of non-empty substrings of a given string"
   ]
  },
  {
   "cell_type": "code",
   "execution_count": 23,
   "id": "ef3f2274",
   "metadata": {
    "ExecuteTime": {
     "end_time": "2023-06-09T11:19:00.111728Z",
     "start_time": "2023-06-09T11:18:56.209447Z"
    }
   },
   "outputs": [
    {
     "name": "stdout",
     "output_type": "stream",
     "text": [
      "Input a string: fafaf\n",
      "Number of substrings:\n",
      "15\n"
     ]
    }
   ],
   "source": [
    "def number_of_substrings(str): \n",
    "    str_len = len(str); \n",
    "    return int(str_len * (str_len + 1) / 2); \n",
    "\n",
    "str1 = input(\"Input a string: \")\n",
    "print(\"Number of substrings:\") \n",
    "print(number_of_substrings(str1))"
   ]
  },
  {
   "cell_type": "markdown",
   "id": "509998e2",
   "metadata": {},
   "source": [
    "**21-write a Python program to swap first and last element of any list.\n"
   ]
  },
  {
   "cell_type": "code",
   "execution_count": 45,
   "id": "e845c1ca",
   "metadata": {
    "ExecuteTime": {
     "end_time": "2023-03-27T14:35:37.491947Z",
     "start_time": "2023-03-27T14:35:37.466948Z"
    }
   },
   "outputs": [
    {
     "name": "stdout",
     "output_type": "stream",
     "text": [
      "[5, 2, 3, 1]\n"
     ]
    }
   ],
   "source": [
    "def swapList(newList):\n",
    "    size = len(newList)\n",
    "    temp = newList[0]\n",
    "    newList[0] = newList[size - 1]\n",
    "    newList[size - 1] = temp\n",
    "    return newList\n",
    "newList = [1,2,3,5]\n",
    "print(swapList(newList))"
   ]
  },
  {
   "cell_type": "code",
   "execution_count": 18,
   "id": "68692d7f",
   "metadata": {
    "ExecuteTime": {
     "end_time": "2023-03-27T00:14:16.562145Z",
     "start_time": "2023-03-27T00:13:36.979225Z"
    }
   },
   "outputs": [
    {
     "name": "stdout",
     "output_type": "stream",
     "text": [
      "'all,things,will,be,okay'\n",
      "[\"okay'\", 'things', 'will', 'be', \"okay'\"]\n"
     ]
    }
   ],
   "source": [
    "def swap (values_list):\n",
    "    values_list[0] = values_list[-1]\n",
    "    values_list[-1] = values_list[0]\n",
    "    return values_list\n",
    "\n",
    "values_list = input().split(',')  \n",
    "swap(values_list)\n",
    "\n",
    "print(values_list)"
   ]
  },
  {
   "cell_type": "markdown",
   "id": "959e0837",
   "metadata": {},
   "source": [
    "**22-Given a list in Python and provided the positions of the elements, write a program to swap the two elements in the list. (Input : List = [23, 65, 19, 90], pos1 = 1, pos2 = 3\n",
    "Output : [19, 65, 23, 90])"
   ]
  },
  {
   "cell_type": "code",
   "execution_count": 48,
   "id": "225d8c6d",
   "metadata": {
    "ExecuteTime": {
     "end_time": "2023-03-27T14:40:19.405484Z",
     "start_time": "2023-03-27T14:40:19.377479Z"
    }
   },
   "outputs": [
    {
     "name": "stdout",
     "output_type": "stream",
     "text": [
      "[9, 6, 2, 8]\n"
     ]
    }
   ],
   "source": [
    "def swapPositions(list, pos1, pos2):\n",
    "     \n",
    "    list[pos1], list[pos2] = list[pos2], list[pos1]\n",
    "    return list\n",
    "List = [2, 6, 9, 8]\n",
    "pos1, pos2  = 1, 3\n",
    "print(swapPositions(List, pos1-1, pos2-1))"
   ]
  },
  {
   "cell_type": "markdown",
   "id": "66fc6682",
   "metadata": {},
   "source": [
    "**23- search for the all ways to know the length of the list"
   ]
  },
  {
   "cell_type": "code",
   "execution_count": null,
   "id": "533fb40e",
   "metadata": {
    "ExecuteTime": {
     "end_time": "2023-06-09T11:19:49.685088Z",
     "start_time": "2023-06-09T11:19:49.637087Z"
    }
   },
   "outputs": [],
   "source": [
    "len(s)"
   ]
  },
  {
   "cell_type": "code",
   "execution_count": 25,
   "id": "a3fa31b3",
   "metadata": {
    "ExecuteTime": {
     "end_time": "2023-06-09T11:20:23.649658Z",
     "start_time": "2023-06-09T11:20:23.629660Z"
    }
   },
   "outputs": [
    {
     "name": "stdout",
     "output_type": "stream",
     "text": [
      "4\n"
     ]
    }
   ],
   "source": [
    "inp_lst = ['1', '2', '3', '4']\n",
    "size = len(inp_lst)\n",
    "print(size)"
   ]
  },
  {
   "cell_type": "code",
   "execution_count": null,
   "id": "63ff8b43",
   "metadata": {},
   "outputs": [],
   "source": [
    "**24-write a Python code to find the Maximum number of list of numbers."
   ]
  },
  {
   "cell_type": "code",
   "execution_count": 20,
   "id": "15f342de",
   "metadata": {
    "ExecuteTime": {
     "end_time": "2023-03-27T00:47:59.950616Z",
     "start_time": "2023-03-27T00:47:59.931436Z"
    }
   },
   "outputs": [
    {
     "name": "stdout",
     "output_type": "stream",
     "text": [
      "Largest element of the list is: 100\n"
     ]
    }
   ],
   "source": [
    "def Maxelement(lst):\n",
    "   max = lst[0]\n",
    "   for ele in lst:\n",
    "      if ele > max :\n",
    "         max = ele\n",
    "      return max\n",
    "lst = [100, 1, 5, 80, 20]\n",
    "print(\"Largest element of the list is:\", Maxelement(lst))"
   ]
  },
  {
   "cell_type": "code",
   "execution_count": null,
   "id": "1a89b9d3",
   "metadata": {},
   "outputs": [],
   "source": [
    "**25-write a Python code to find the Minimum number of list of numbers."
   ]
  },
  {
   "cell_type": "code",
   "execution_count": 21,
   "id": "21f8cbd6",
   "metadata": {
    "ExecuteTime": {
     "end_time": "2023-03-27T00:49:57.482767Z",
     "start_time": "2023-03-27T00:49:57.458764Z"
    }
   },
   "outputs": [
    {
     "name": "stdout",
     "output_type": "stream",
     "text": [
      "Smallest number is:  18\n"
     ]
    }
   ],
   "source": [
    "a = [18, 52, 23, 41, 32]\n",
    "a.sort()\n",
    "smallest = a[0]\n",
    "print(\"Smallest number is: \",smallest)"
   ]
  },
  {
   "cell_type": "markdown",
   "id": "96822d96",
   "metadata": {},
   "source": [
    "**26-search for if an elem is existing in list"
   ]
  },
  {
   "cell_type": "code",
   "execution_count": 22,
   "id": "51ca5c9a",
   "metadata": {
    "ExecuteTime": {
     "end_time": "2023-03-27T00:51:38.122603Z",
     "start_time": "2023-03-27T00:51:38.107630Z"
    }
   },
   "outputs": [
    {
     "name": "stdout",
     "output_type": "stream",
     "text": [
      "Element Exists\n"
     ]
    }
   ],
   "source": [
    "test_list = [1, 2, 3, 4, 5, 6]\n",
    "for i in test_list:\n",
    "    if(i == 4):\n",
    "        print(\"Element Exists\")"
   ]
  },
  {
   "cell_type": "markdown",
   "id": "d9557da7",
   "metadata": {},
   "source": [
    "**27- clear python list using different ways"
   ]
  },
  {
   "cell_type": "code",
   "execution_count": null,
   "id": "b69858a3",
   "metadata": {},
   "outputs": [],
   "source": [
    "list.clear()"
   ]
  },
  {
   "cell_type": "code",
   "execution_count": null,
   "id": "2961f363",
   "metadata": {},
   "outputs": [],
   "source": [
    "list *= 0"
   ]
  },
  {
   "cell_type": "markdown",
   "id": "52160e88",
   "metadata": {},
   "source": [
    "**28-remove duplicated elements from a list"
   ]
  },
  {
   "cell_type": "code",
   "execution_count": 52,
   "id": "5e362228",
   "metadata": {
    "ExecuteTime": {
     "end_time": "2023-03-27T14:53:05.610172Z",
     "start_time": "2023-03-27T14:53:05.594175Z"
    }
   },
   "outputs": [
    {
     "name": "stdout",
     "output_type": "stream",
     "text": [
      "['a', 'b', 'd', 'c']\n"
     ]
    }
   ],
   "source": [
    "mylist = [\"a\", \"b\", \"b\", \"d\", \"c\"]\n",
    "mylist = list(dict.fromkeys(mylist))\n",
    "print(mylist)"
   ]
  },
  {
   "cell_type": "markdown",
   "id": "282337f7",
   "metadata": {},
   "source": [
    "**29-Given list values and keys list, convert these values to key value pairs in form of list of dictionaries. (Input : test_list = [“Gfg”, 3, “is”, 8], key_list = [“name”, “id”]\n",
    "Output : [{‘name’: ‘Gfg’, ‘id’: 3}, {‘name’: ‘is’, ‘id’: 8}])"
   ]
  },
  {
   "cell_type": "code",
   "execution_count": 38,
   "id": "4d4e2d28",
   "metadata": {
    "ExecuteTime": {
     "end_time": "2023-06-09T11:46:38.618856Z",
     "start_time": "2023-06-09T11:46:38.552852Z"
    }
   },
   "outputs": [
    {
     "ename": "TypeError",
     "evalue": "'str' object is not callable",
     "output_type": "error",
     "traceback": [
      "\u001b[1;31m---------------------------------------------------------------------------\u001b[0m",
      "\u001b[1;31mTypeError\u001b[0m                                 Traceback (most recent call last)",
      "Cell \u001b[1;32mIn[38], line 6\u001b[0m\n\u001b[0;32m      3\u001b[0m key_list \u001b[38;5;241m=\u001b[39m [\u001b[38;5;124m\"\u001b[39m\u001b[38;5;124mname\u001b[39m\u001b[38;5;124m\"\u001b[39m, \u001b[38;5;124m\"\u001b[39m\u001b[38;5;124mid\u001b[39m\u001b[38;5;124m\"\u001b[39m]\n\u001b[0;32m      4\u001b[0m res \u001b[38;5;241m=\u001b[39m [{key_list[i]: val \u001b[38;5;28;01mfor\u001b[39;00m i, val \u001b[38;5;129;01min\u001b[39;00m \u001b[38;5;28menumerate\u001b[39m(pair)} \u001b[38;5;28;01mfor\u001b[39;00m pair \u001b[38;5;129;01min\u001b[39;00m \u001b[38;5;28mzip\u001b[39m(test_list[::\u001b[38;5;241m2\u001b[39m], test_list[\u001b[38;5;241m1\u001b[39m::\u001b[38;5;241m2\u001b[39m])]\n\u001b[1;32m----> 6\u001b[0m \u001b[38;5;28mprint\u001b[39m(\u001b[38;5;124m\"\u001b[39m\u001b[38;5;124mThe constructed dictionary list : \u001b[39m\u001b[38;5;124m\"\u001b[39m \u001b[38;5;241m+\u001b[39m \u001b[38;5;28;43mstr\u001b[39;49m\u001b[43m(\u001b[49m\u001b[43mres\u001b[49m\u001b[43m)\u001b[49m)\n",
      "\u001b[1;31mTypeError\u001b[0m: 'str' object is not callable"
     ]
    }
   ],
   "source": []
  },
  {
   "cell_type": "markdown",
   "id": "c26b6e9f",
   "metadata": {},
   "source": [
    "**30-write a python program to count unique values inside a list using different ways"
   ]
  },
  {
   "cell_type": "code",
   "execution_count": 50,
   "id": "72132667",
   "metadata": {
    "ExecuteTime": {
     "end_time": "2023-03-27T14:52:02.635602Z",
     "start_time": "2023-03-27T14:52:02.622601Z"
    }
   },
   "outputs": [
    {
     "name": "stdout",
     "output_type": "stream",
     "text": [
      " 5\n"
     ]
    }
   ],
   "source": [
    "input_list = [1, 2, 2, 5, 8, 4, 4, 8]\n",
    "l1 = []\n",
    "count = 0\n",
    "for item in input_list:\n",
    "    if item not in l1:\n",
    "        count += 1\n",
    "        l1.append(item)\n",
    "print(\"\", count)"
   ]
  },
  {
   "cell_type": "markdown",
   "id": "fed6677c",
   "metadata": {},
   "source": [
    "**31-write a python program Extract all elements with Frequency greater than K (Input : test_list = [4, 6, 4, 3, 3, 4, 3, 4, 3, 8], K = 3 \n",
    "Output : [4, 3] )"
   ]
  },
  {
   "cell_type": "code",
   "execution_count": 56,
   "id": "d81f3f9d",
   "metadata": {
    "ExecuteTime": {
     "end_time": "2023-03-27T14:55:46.555949Z",
     "start_time": "2023-03-27T14:55:46.534902Z"
    }
   },
   "outputs": [
    {
     "name": "stdout",
     "output_type": "stream",
     "text": [
      "The original list : [4, 5, 9, 9, 4, 4, 3, 7, 8, 8]\n",
      "The required elements : [4]\n"
     ]
    }
   ],
   "source": [
    "test_list = [4, 5, 9, 9, 4, 4, 3, 7, 8, 8]\n",
    "print(\"The original list : \" + str(test_list))\n",
    "m = 2\n",
    "res = []\n",
    "for i in test_list:\n",
    "     \n",
    "    freq = test_list.count(i)\n",
    "     \n",
    "   \n",
    "    if freq > m and i not in res:\n",
    "        res.append(i)\n",
    "print(\"The required elements : \" + str(res))"
   ]
  },
  {
   "cell_type": "markdown",
   "id": "caca5224",
   "metadata": {},
   "source": [
    "**32-write a python program to find the Strongest Neighbour (Input: 1 2 2 3 4 5\n",
    "Output: 2 2 3 4 5)"
   ]
  },
  {
   "cell_type": "code",
   "execution_count": 6,
   "id": "39fbd9b2",
   "metadata": {
    "ExecuteTime": {
     "end_time": "2023-03-27T23:01:51.655473Z",
     "start_time": "2023-03-27T23:01:51.632471Z"
    }
   },
   "outputs": [
    {
     "name": "stdout",
     "output_type": "stream",
     "text": [
      "The original list is : [1, 2, 2, 3, 4, 5]\n",
      "The elements after replacing : [1, 2, 3, 4, 5, 5]\n"
     ]
    }
   ],
   "source": [
    "test_list = [1, 2, 2, 3, 4, 5]\n",
    "print(\"The original list is : \" + str(test_list))\n",
    " \n",
    "for idx in range(1, len(test_list) - 1):\n",
    " \n",
    "    \n",
    "    test_list[idx] = test_list[idx - 1] \\\n",
    "    if test_list[idx - 1] > test_list[idx + 1] \\\n",
    "    else test_list[idx + 1]\n",
    "\n",
    "print(\"The elements after replacing : \" + str(test_list))"
   ]
  },
  {
   "cell_type": "markdown",
   "id": "a9fa8baf",
   "metadata": {},
   "source": [
    "**33-write a Python Program to print all Possible Combinations from the three Digits (Input: [1, 2, 3]\n",
    "Output:\n",
    "1 2 3 ##\n",
    "1 3 2 ##\n",
    "2 1 3 ##\n",
    "2 3 1 ##\n",
    "3 1 2 ##\n",
    "3 2 1)"
   ]
  },
  {
   "cell_type": "code",
   "execution_count": 40,
   "id": "8c520a76",
   "metadata": {
    "ExecuteTime": {
     "end_time": "2023-06-09T11:49:49.526780Z",
     "start_time": "2023-06-09T11:49:49.510781Z"
    }
   },
   "outputs": [
    {
     "name": "stdout",
     "output_type": "stream",
     "text": [
      "1 2 3\n",
      "1 3 2\n",
      "2 1 3\n",
      "2 3 1\n",
      "3 1 2\n",
      "3 2 1\n"
     ]
    }
   ],
   "source": [
    "def Combinations(L):\n",
    "      \n",
    "    for i in range(3):\n",
    "        for j in range(3):\n",
    "            for k in range(3):\n",
    "                if (i!=j and j!=k and i!=k):\n",
    "                    print(L[i], L[j], L[k])\n",
    "                      \n",
    "\n",
    "Combinations([1, 2, 3])\n",
    " \n",
    "    "
   ]
  },
  {
   "cell_type": "markdown",
   "id": "5288bb89",
   "metadata": {},
   "source": [
    "**34-write a Python program to find all the Combinations in the list with the given condition (Input: test_list = [1,2,3] \n",
    "Output: \n",
    " [1], [1, 2], [1, 2, 3], [1, 3]\n",
    " [2], [2, 3], [3])"
   ]
  },
  {
   "cell_type": "code",
   "execution_count": 46,
   "id": "59b89646",
   "metadata": {
    "ExecuteTime": {
     "end_time": "2023-06-09T11:54:36.897990Z",
     "start_time": "2023-06-09T11:54:36.877993Z"
    }
   },
   "outputs": [
    {
     "name": "stdout",
     "output_type": "stream",
     "text": [
      "[1]\n",
      "[1, 2]\n",
      "[1, 2, 3]\n",
      "[1, 3]\n",
      "[2]\n",
      "[2, 3]\n",
      "[3]\n"
     ]
    }
   ],
   "source": [
    "\n",
    "import copy\n",
    "def combinations(target, data):\n",
    " \n",
    "    for i in range(len(data)):\n",
    " \n",
    "        new_lis = copy.copy(target)\n",
    "        new_data = copy.copy(data)\n",
    "\n",
    "        new_lis.append(data[i])\n",
    "        new_data = data[i+1:]\n",
    " \n",
    "        print(new_lis)\n",
    " \n",
    "        combinations(new_lis,\n",
    "                     new_data)\n",
    " \n",
    " \n",
    "target = []\n",
    "data = [1,2,3 ]\n",
    " \n",
    "combinations(target, data)"
   ]
  },
  {
   "cell_type": "markdown",
   "id": "39973705",
   "metadata": {},
   "source": [
    "**35-write a Python program to get all unique combinations of two Lists (List_1 = [\"a\",\"b\"]\n",
    "List_2 = [1,2]\n",
    "Unique_combination = [[('a',1),('b',2)],[('a',2),('b',1)]] )"
   ]
  },
  {
   "cell_type": "code",
   "execution_count": 48,
   "id": "8c4ba22b",
   "metadata": {
    "ExecuteTime": {
     "end_time": "2023-06-09T11:57:09.660998Z",
     "start_time": "2023-06-09T11:57:09.639995Z"
    }
   },
   "outputs": [
    {
     "name": "stdout",
     "output_type": "stream",
     "text": [
      "[[('a', 1), ('b', 2)], [('a', 2), ('b', 1)], ('a', 1), ('a', 2), ('b', 1), ('b', 2)]\n"
     ]
    }
   ],
   "source": [
    "list_1 = [\"a\",\"b\"] \n",
    "list_2 = [1,2] \n",
    " \n",
    "unique_combinations = [[('a',1),('b',2)],[('a',2),('b',1)]]\n",
    " \n",
    "for i in range(len(list_1)):\n",
    "    for j in range(len(list_2)):\n",
    "        unique_combinations.append((list_1[i], list_2[j]))\n",
    " \n",
    "print(unique_combinations)"
   ]
  },
  {
   "cell_type": "markdown",
   "id": "25199af5",
   "metadata": {},
   "source": [
    "**36-Remove all the occurrences of an element from a list in Python (Input : 1 1 2 3 4 5 1 2 1 \n",
    "\n",
    "**Output : 2 3 4 5 2)"
   ]
  },
  {
   "cell_type": "code",
   "execution_count": 53,
   "id": "6dc4c2ba",
   "metadata": {
    "ExecuteTime": {
     "end_time": "2023-06-09T12:00:18.439203Z",
     "start_time": "2023-06-09T12:00:18.416169Z"
    }
   },
   "outputs": [
    {
     "name": "stdout",
     "output_type": "stream",
     "text": [
      "[2, 3, 4, 5, 2]\n"
     ]
    }
   ],
   "source": [
    "def remove_values_from_list(the_list, val):\n",
    "   return [value for value in the_list if value != val]\n",
    "\n",
    "x = [1,1, 2, 3, 4, 5, 2, 1]\n",
    "x = remove_values_from_list(x,1)\n",
    "print (x)\n",
    " \n",
    "  "
   ]
  },
  {
   "cell_type": "markdown",
   "id": "bf1a3c93",
   "metadata": {},
   "source": [
    "**37-write a python program to Replace index elements with elements in Other List (The original list 1 is : [‘Gfg’, ‘is’, ‘best’] The original list 2 is : [0, 1, 2, 1, 0, 0, 0, 2, 1, 1, 2, 0] The lists after index elements replacements is : [‘Gfg’, ‘is’, ‘best’, ‘is’, ‘Gfg’, ‘Gfg’, ‘Gfg’, ‘best’, ‘is’, ‘is’, ‘best’, ‘Gfg’])"
   ]
  },
  {
   "cell_type": "code",
   "execution_count": 65,
   "id": "fdd66a71",
   "metadata": {
    "ExecuteTime": {
     "end_time": "2023-06-09T12:10:12.214901Z",
     "start_time": "2023-06-09T12:10:12.195902Z"
    }
   },
   "outputs": [
    {
     "name": "stdout",
     "output_type": "stream",
     "text": [
      "List 1 :  ['Gfg', 'is', 'best']\n",
      "List 2 :  [0, 1, 2, 1, 0, 0, 0, 2, 1, 1, 2, 0]\n",
      "After Index Elements Replacements is :  ['Gfg', 'is', 'best', 'is', 'Gfg', 'Gfg', 'Gfg', 'best', 'is', 'is', 'best', 'Gfg']\n"
     ]
    }
   ],
   "source": [
    "test_list1 = ['Gfg', 'is', 'best']\n",
    "test_list2 = [0, 1, 2, 1, 0, 0, 0, 2, 1, 1, 2, 0]\n",
    " \n",
    "print(\"List 1 : \" , test_list1)\n",
    "print(\"List 2 : \" , test_list2)\n",
    "res = [test_list1[i] for i in test_list2]\n",
    " \n",
    "print (\"After Index Elements Replacements is : \" ,res)\n",
    "        "
   ]
  },
  {
   "cell_type": "markdown",
   "id": "af0f56e8",
   "metadata": {},
   "source": [
    "**38- write python program to Retain records with N occurrences of K(Input : test_list = [(4, 5, 5, 4), (5, 4, 3)], K = 5, N = 2 \n",
    "Output : [(4, 5, 5, 4)]\n",
    "Input : test_list = [(4, 5, 5, 4), (5, 4, 3)], K = 5, N = 3 \n",
    "Output : [] )"
   ]
  },
  {
   "cell_type": "code",
   "execution_count": 67,
   "id": "67b06671",
   "metadata": {
    "ExecuteTime": {
     "end_time": "2023-06-09T12:20:25.149589Z",
     "start_time": "2023-06-09T12:20:25.129603Z"
    }
   },
   "outputs": [
    {
     "name": "stdout",
     "output_type": "stream",
     "text": [
      "[(4, 5, 5, 4), (5, 4, 3)]\n",
      "[(4, 5, 5, 4)]\n"
     ]
    }
   ],
   "source": [
    "test_list = [(4, 5, 5, 4), (5, 4, 3)]\n",
    "print(test_list)\n",
    "K = 5\n",
    "N = 2\n",
    "res = [e for e in test_list if e.count(K) == N]\n",
    " \n",
    "print(res)"
   ]
  },
  {
   "cell_type": "code",
   "execution_count": 68,
   "id": "93bd1289",
   "metadata": {
    "ExecuteTime": {
     "end_time": "2023-06-09T12:20:54.850924Z",
     "start_time": "2023-06-09T12:20:54.836885Z"
    }
   },
   "outputs": [
    {
     "name": "stdout",
     "output_type": "stream",
     "text": [
      "[(4, 5, 5, 4), (5, 4, 3)]\n",
      "[]\n"
     ]
    }
   ],
   "source": [
    "test_list = [(4, 5, 5, 4), (5, 4, 3)]\n",
    "print(test_list)\n",
    "K = 5\n",
    "N = 3\n",
    "res = [e for e in test_list if e.count(K) == N]\n",
    " \n",
    "print(res)"
   ]
  },
  {
   "cell_type": "markdown",
   "id": "de76f183",
   "metadata": {},
   "source": [
    "**39-write a Python Program to Sort the list according to the column using lambda\n",
    "array = [[1, 3, 3], [2, 1, 2], [3, 2, 1]]\n",
    "Output :\n",
    "Sorted array specific to column 0, [[1, 3, 3], [2, 1, 2], [3, 2, 1]]\n",
    "Sorted array specific to column 1, [[2, 1, 2], [3, 2, 1], [1, 3, 3]]\n",
    "Sorted array specific to column 2, [[3, 2, 1], [2, 1, 2], [1, 3, 3]]"
   ]
  },
  {
   "cell_type": "code",
   "execution_count": 69,
   "id": "dc883308",
   "metadata": {
    "ExecuteTime": {
     "end_time": "2023-06-09T12:22:24.779987Z",
     "start_time": "2023-06-09T12:22:24.756802Z"
    }
   },
   "outputs": [
    {
     "name": "stdout",
     "output_type": "stream",
     "text": [
      "Original list:\n",
      "[[1, 3, 3], [2, 1, 2], [3, 2, 1]]\n",
      "\n",
      "Sort the list of lists by length and value:\n",
      "[[1, 3, 3], [2, 1, 2], [3, 2, 1]]\n"
     ]
    }
   ],
   "source": [
    "def sort_sublists(input_list):\n",
    "    result = sorted(input_list, key=lambda l: (len(l), l))\n",
    "    return result\n",
    "list1 = [[1, 3, 3], [2, 1, 2], [3, 2, 1]] \n",
    "print(\"Original list:\")\n",
    "print(list1)\n",
    "print(\"\\nSort the list of lists by length and value:\")\n",
    "print(sort_sublists(list1))"
   ]
  },
  {
   "cell_type": "code",
   "execution_count": 70,
   "id": "228c1ca7",
   "metadata": {
    "ExecuteTime": {
     "end_time": "2023-06-09T12:22:55.806880Z",
     "start_time": "2023-06-09T12:22:55.793878Z"
    }
   },
   "outputs": [
    {
     "name": "stdout",
     "output_type": "stream",
     "text": [
      "Original list:\n",
      "[[2, 1, 2], [3, 2, 1], [1, 3, 3]]\n",
      "\n",
      "Sort the list of lists by length and value:\n",
      "[[1, 3, 3], [2, 1, 2], [3, 2, 1]]\n"
     ]
    }
   ],
   "source": [
    "def sort_sublists(input_list):\n",
    "    result = sorted(input_list, key=lambda l: (len(l), l))\n",
    "    return result\n",
    "list1 = [[2, 1, 2], [3, 2, 1], [1, 3, 3]] \n",
    "print(\"Original list:\")\n",
    "print(list1)\n",
    "print(\"\\nSort the list of lists by length and value:\")\n",
    "print(sort_sublists(list1))"
   ]
  },
  {
   "cell_type": "code",
   "execution_count": null,
   "id": "d2e7b31f",
   "metadata": {},
   "outputs": [],
   "source": [
    "**40- write a program to Sort Python Dictionaries by Key or Value\n",
    "Input:\n",
    "{'ravi': 10, 'rajnish': 9, 'sanjeev': 15, 'yash': 2, 'suraj': 32}\n",
    "\n",
    "Output: \n",
    "{'rajnish': 9, 'ravi': 10, 'sanjeev': 15, 'suraj': 32, 'yash': 2}"
   ]
  },
  {
   "cell_type": "code",
   "execution_count": 72,
   "id": "a96db4a0",
   "metadata": {
    "ExecuteTime": {
     "end_time": "2023-06-09T12:24:20.344736Z",
     "start_time": "2023-06-09T12:24:20.330736Z"
    }
   },
   "outputs": [
    {
     "name": "stdout",
     "output_type": "stream",
     "text": [
      "Original dictionary:\n",
      "{'ravi': 10, 'rajnish': 9, 'sanjeev': 15, 'yash': 2, 'suraj': 32}\n",
      "\n",
      "Sort the said dictionary by key (Ascending order):\n",
      "{'rajnish': 9, 'ravi': 10, 'sanjeev': 15, 'suraj': 32, 'yash': 2}\n"
     ]
    }
   ],
   "source": [
    "def sort_dict_by_key(d, reverse = False):\n",
    "  return dict(sorted(d.items(), reverse = reverse))\n",
    "students = {'ravi': 10, 'rajnish': 9, 'sanjeev': 15, 'yash': 2, 'suraj': 32}\n",
    "\n",
    "print(\"Original dictionary:\")\n",
    "print(students)\n",
    "print(\"\\nSort the said dictionary by key (Ascending order):\")\n",
    "print(sort_dict_by_key(students))\n",
    "\n"
   ]
  },
  {
   "cell_type": "markdown",
   "id": "ec63c23a",
   "metadata": {},
   "source": [
    "**41-write python program to Remove keys with Values Greater than K ( Including mixed values )\n",
    "nput : test_dict = {‘Gfg’ : 3, ‘is’ : 7, ‘best’ : 10, ‘for’ : 6, ‘geeks’ : ‘CS’},\n",
    "K = 7 \n",
    "Output : {‘Gfg’ : 3, ‘for’ : 6, ‘geeks’ : ‘CS’}"
   ]
  },
  {
   "cell_type": "code",
   "execution_count": 77,
   "id": "e39c3a40",
   "metadata": {
    "ExecuteTime": {
     "end_time": "2023-06-09T12:29:54.080297Z",
     "start_time": "2023-06-09T12:29:54.059297Z"
    }
   },
   "outputs": [
    {
     "name": "stdout",
     "output_type": "stream",
     "text": [
      "{'Gfg': 3, 'is': 7, 'best': 10, 'for': 6, 'geeks': 'CS'}\n",
      "{'Gfg': 3, 'best': 10, 'for': 6, 'geeks': 'CS'}\n"
     ]
    }
   ],
   "source": [
    "test_dict = {'Gfg' : 3, 'is' : 7, 'best' : 10, 'for' : 6, 'geeks' : 'CS'}\n",
    "print(test_dict)\n",
    "if 'is' in test_dict: \n",
    "    del test_dict['is']\n",
    "print(test_dict)"
   ]
  },
  {
   "cell_type": "markdown",
   "id": "f143f0fe",
   "metadata": {},
   "source": [
    "**42-Write a Python program to concatenate the following dictionaries to create a new one\n",
    "\n",
    "Sample Dictionary :\n",
    "dic1={1:10, 2:20}\n",
    "dic2={3:30, 4:40}\n",
    "dic3={5:50,6:60}\n",
    "Expected Result : {1: 10, 2: 20, 3: 30, 4: 40, 5: 50, 6: 60}"
   ]
  },
  {
   "cell_type": "code",
   "execution_count": 75,
   "id": "74ffdfea",
   "metadata": {
    "ExecuteTime": {
     "end_time": "2023-06-09T12:26:49.675081Z",
     "start_time": "2023-06-09T12:26:49.658084Z"
    }
   },
   "outputs": [
    {
     "name": "stdout",
     "output_type": "stream",
     "text": [
      "{1: 10, 2: 20, 3: 30, 4: 40, 5: 50, 6: 60}\n"
     ]
    }
   ],
   "source": [
    "dic1={1:10, 2:20}\n",
    "dic2={3:30, 4:40}\n",
    "dic3={5:50,6:60}\n",
    "dic4 = {}\n",
    "for d in (dic1, dic2, dic3): dic4.update(d)\n",
    "print(dic4)"
   ]
  },
  {
   "cell_type": "markdown",
   "id": "fb04c93c",
   "metadata": {},
   "source": [
    "**43-Write a Python program to iterate over dictionaries using for loops"
   ]
  },
  {
   "cell_type": "code",
   "execution_count": 78,
   "id": "6aebc470",
   "metadata": {
    "ExecuteTime": {
     "end_time": "2023-06-09T12:30:45.143131Z",
     "start_time": "2023-06-09T12:30:45.119951Z"
    }
   },
   "outputs": [
    {
     "name": "stdout",
     "output_type": "stream",
     "text": [
      "x -> 10\n",
      "y -> 20\n",
      "z -> 30\n"
     ]
    }
   ],
   "source": [
    "d = {'x': 10, 'y': 20, 'z': 30} \n",
    "for dict_key, dict_value in d.items():\n",
    "    print(dict_key,'->',dict_value)"
   ]
  },
  {
   "cell_type": "markdown",
   "id": "5f491a9d",
   "metadata": {},
   "source": [
    "**44- Write a Python script to merge two Python dictionaries"
   ]
  },
  {
   "cell_type": "code",
   "execution_count": 80,
   "id": "b8a14028",
   "metadata": {
    "ExecuteTime": {
     "end_time": "2023-06-09T12:31:52.222280Z",
     "start_time": "2023-06-09T12:31:52.203282Z"
    }
   },
   "outputs": [
    {
     "name": "stdout",
     "output_type": "stream",
     "text": [
      "{'d': 500, 'z': 200, 'x': 300, 'y': 200}\n"
     ]
    }
   ],
   "source": [
    "dic1 = {'d': 500, 'z': 200}\n",
    "dic2 = {'x': 300, 'y': 200}\n",
    "d = dic1.copy()\n",
    "d.update(dic2)\n",
    "print(d)"
   ]
  },
  {
   "cell_type": "markdown",
   "id": "216fc72d",
   "metadata": {},
   "source": [
    "**45-Write a Python program to get the maximum and minimum values of a dictionary values"
   ]
  },
  {
   "cell_type": "code",
   "execution_count": 81,
   "id": "d6883f5f",
   "metadata": {
    "ExecuteTime": {
     "end_time": "2023-06-09T12:32:24.584330Z",
     "start_time": "2023-06-09T12:32:24.556336Z"
    }
   },
   "outputs": [
    {
     "name": "stdout",
     "output_type": "stream",
     "text": [
      "Maximum Value:  5874\n",
      "Minimum Value:  500\n"
     ]
    }
   ],
   "source": [
    "my_dict = {'x':500, 'y':5874, 'z': 560}\n",
    "\n",
    "key_max = max(my_dict.keys(), key=(lambda k: my_dict[k]))\n",
    "key_min = min(my_dict.keys(), key=(lambda k: my_dict[k]))\n",
    "\n",
    "print('Maximum Value: ',my_dict[key_max])\n",
    "print('Minimum Value: ',my_dict[key_min])\n"
   ]
  },
  {
   "cell_type": "markdown",
   "id": "b6a53011",
   "metadata": {},
   "source": [
    "**46- Write a Python program to drop empty items from a given dictionary.\n",
    "Original Dictionary:\n",
    "{'c1': 'Red', 'c2': 'Green', 'c3': None}\n",
    "New Dictionary after dropping empty items:\n",
    "{'c1': 'Red', 'c2': 'Green'}"
   ]
  },
  {
   "cell_type": "code",
   "execution_count": 82,
   "id": "b5c6fecf",
   "metadata": {
    "ExecuteTime": {
     "end_time": "2023-06-09T12:32:56.369029Z",
     "start_time": "2023-06-09T12:32:56.353033Z"
    }
   },
   "outputs": [
    {
     "name": "stdout",
     "output_type": "stream",
     "text": [
      "Original Dictionary:\n",
      "{'c1': 'Red', 'c2': 'Green', 'c3': None}\n",
      "New Dictionary after dropping empty items:\n",
      "{'c1': 'Red', 'c2': 'Green'}\n"
     ]
    }
   ],
   "source": [
    "dict1 = {'c1': 'Red', 'c2': 'Green', 'c3':None}\n",
    "print(\"Original Dictionary:\")\n",
    "print(dict1)\n",
    "print(\"New Dictionary after dropping empty items:\")\n",
    "dict1 = {key:value for (key, value) in dict1.items() if value is not None}\n",
    "print(dict1)"
   ]
  },
  {
   "cell_type": "markdown",
   "id": "46d718c7",
   "metadata": {},
   "source": [
    "**47-Write a Python program to create a tuple of numbers and print one item"
   ]
  },
  {
   "cell_type": "code",
   "execution_count": 83,
   "id": "13216ff5",
   "metadata": {
    "ExecuteTime": {
     "end_time": "2023-06-09T12:34:01.608417Z",
     "start_time": "2023-06-09T12:34:01.596632Z"
    }
   },
   "outputs": [
    {
     "name": "stdout",
     "output_type": "stream",
     "text": [
      "(1, 2, 3, 4, 5)\n",
      "(5,)\n"
     ]
    }
   ],
   "source": [
    "tuple = 1, 2, 3, 4, 5\n",
    "print(tuple)\n",
    "tuple = 5,\n",
    "print(tuple)"
   ]
  },
  {
   "cell_type": "markdown",
   "id": "2be5b56b",
   "metadata": {},
   "source": [
    "**48-Write a Python program to unpack a tuple into several variables"
   ]
  },
  {
   "cell_type": "code",
   "execution_count": 87,
   "id": "595f44be",
   "metadata": {
    "ExecuteTime": {
     "end_time": "2023-06-09T12:35:41.289447Z",
     "start_time": "2023-06-09T12:35:41.266452Z"
    }
   },
   "outputs": [
    {
     "name": "stdout",
     "output_type": "stream",
     "text": [
      "(4, 8, 3)\n",
      "15\n"
     ]
    }
   ],
   "source": [
    "tuple = 4, 8, 3 \n",
    "print(tuple)\n",
    "n1, n2, n3 = tuple\n",
    "print(n1 + n2 + n3) \n",
    "n1, n2, n3= tuple"
   ]
  },
  {
   "cell_type": "markdown",
   "id": "392388a7",
   "metadata": {},
   "source": [
    "**49-Write a Python program to add an item to a tuple"
   ]
  },
  {
   "cell_type": "code",
   "execution_count": 90,
   "id": "54cc092e",
   "metadata": {
    "ExecuteTime": {
     "end_time": "2023-06-09T12:37:43.238587Z",
     "start_time": "2023-06-09T12:37:43.170585Z"
    }
   },
   "outputs": [
    {
     "name": "stdout",
     "output_type": "stream",
     "text": [
      "(4, 6, 2, 8, 3, 1)\n",
      "(4, 6, 2, 8, 3, 1)\n",
      "(4, 6, 2, 8, 3, 15, 20, 25, 4, 6, 2, 8, 3)\n"
     ]
    },
    {
     "ename": "TypeError",
     "evalue": "'tuple' object is not callable",
     "output_type": "error",
     "traceback": [
      "\u001b[1;31m---------------------------------------------------------------------------\u001b[0m",
      "\u001b[1;31mTypeError\u001b[0m                                 Traceback (most recent call last)",
      "Cell \u001b[1;32mIn[90], line 9\u001b[0m\n\u001b[0;32m      7\u001b[0m listx \u001b[38;5;241m=\u001b[39m \u001b[38;5;28mlist\u001b[39m(tuplea) \n\u001b[0;32m      8\u001b[0m listx\u001b[38;5;241m.\u001b[39mappend(\u001b[38;5;241m30\u001b[39m)\n\u001b[1;32m----> 9\u001b[0m tuplea \u001b[38;5;241m=\u001b[39m \u001b[38;5;28;43mtuple\u001b[39;49m\u001b[43m(\u001b[49m\u001b[43mlistx\u001b[49m\u001b[43m)\u001b[49m\n\u001b[0;32m     10\u001b[0m \u001b[38;5;28mprint\u001b[39m(\u001b[38;5;28mtuple\u001b[39m)\n",
      "\u001b[1;31mTypeError\u001b[0m: 'tuple' object is not callable"
     ]
    }
   ],
   "source": [
    "tuplea = (4, 6, 2, 8, 3, 1) \n",
    "print(tuplea)\n",
    "tuple = tuple + (9,)\n",
    "print(tuplea)\n",
    "tuplea = tuple[:5] + (15, 20, 25) + tuple[:5]\n",
    "print(tuplea)\n",
    "listx = list(tuplea) \n",
    "listx.append(30)\n",
    "tuplea = tuple(listx)\n",
    "print(tuple)"
   ]
  },
  {
   "cell_type": "markdown",
   "id": "3e8fd124",
   "metadata": {},
   "source": [
    "**50-Write a Python program to convert a tuple to a string"
   ]
  },
  {
   "cell_type": "code",
   "execution_count": 92,
   "id": "92a71ddc",
   "metadata": {
    "ExecuteTime": {
     "end_time": "2023-06-09T12:38:34.969717Z",
     "start_time": "2023-06-09T12:38:34.947714Z"
    }
   },
   "outputs": [
    {
     "name": "stdout",
     "output_type": "stream",
     "text": [
      "fatma\n"
     ]
    }
   ],
   "source": [
    "tup = ('f', 'a', 't', 'm', 'a')\n",
    "str =  ''.join(tup)\n",
    "print(str)"
   ]
  },
  {
   "cell_type": "markdown",
   "id": "f4f64ef4",
   "metadata": {},
   "source": [
    "**51-Write a Python program to convert a list to a tuple"
   ]
  },
  {
   "cell_type": "code",
   "execution_count": 94,
   "id": "210d56d3",
   "metadata": {
    "ExecuteTime": {
     "end_time": "2023-06-09T12:39:59.580822Z",
     "start_time": "2023-06-09T12:39:59.517826Z"
    }
   },
   "outputs": [
    {
     "name": "stdout",
     "output_type": "stream",
     "text": [
      "[5, 10, 7, 4, 15, 3]\n"
     ]
    },
    {
     "ename": "TypeError",
     "evalue": "'tuple' object is not callable",
     "output_type": "error",
     "traceback": [
      "\u001b[1;31m---------------------------------------------------------------------------\u001b[0m",
      "\u001b[1;31mTypeError\u001b[0m                                 Traceback (most recent call last)",
      "Cell \u001b[1;32mIn[94], line 3\u001b[0m\n\u001b[0;32m      1\u001b[0m \u001b[38;5;28mlist\u001b[39m \u001b[38;5;241m=\u001b[39m [\u001b[38;5;241m5\u001b[39m, \u001b[38;5;241m10\u001b[39m, \u001b[38;5;241m7\u001b[39m, \u001b[38;5;241m4\u001b[39m, \u001b[38;5;241m15\u001b[39m, \u001b[38;5;241m3\u001b[39m]\n\u001b[0;32m      2\u001b[0m \u001b[38;5;28mprint\u001b[39m(\u001b[38;5;28mlist\u001b[39m)\n\u001b[1;32m----> 3\u001b[0m tuplex \u001b[38;5;241m=\u001b[39m \u001b[38;5;28;43mtuple\u001b[39;49m\u001b[43m(\u001b[49m\u001b[38;5;28;43mlist\u001b[39;49m\u001b[43m)\u001b[49m\n\u001b[0;32m      4\u001b[0m \u001b[38;5;28mprint\u001b[39m(tuplex)\n",
      "\u001b[1;31mTypeError\u001b[0m: 'tuple' object is not callable"
     ]
    }
   ],
   "source": [
    "list = [5, 10, 7, 4, 15, 3]\n",
    "print(list)\n",
    "tuplex = tuple(list)\n",
    "print(tuplex)"
   ]
  },
  {
   "cell_type": "markdown",
   "id": "b1e00ef7",
   "metadata": {},
   "source": [
    "**52-Write a Python program to reverse a tuple"
   ]
  },
  {
   "cell_type": "code",
   "execution_count": 97,
   "id": "f45bfdc7",
   "metadata": {
    "ExecuteTime": {
     "end_time": "2023-06-09T12:42:35.866863Z",
     "start_time": "2023-06-09T12:42:35.850724Z"
    }
   },
   "outputs": [
    {
     "name": "stdout",
     "output_type": "stream",
     "text": [
      "The original tuple is:  (1, 2, 'Python', 'Java', 23.4, 77, 10)\n",
      "The reversed tuple is:  (10, 77, 23.4, 'Java', 'Python', 2, 1)\n"
     ]
    }
   ],
   "source": [
    "tuple_values = (1, 2, 'Python', 'Java', 23.4, 77, 10)   \n",
    "print(\"The original tuple is: \", tuple_values)   \n",
    "tuple_values = tuple_values[::-1]  \n",
    "print(\"The reversed tuple is: \", tuple_values)  \n"
   ]
  },
  {
   "cell_type": "markdown",
   "id": "3cd347d1",
   "metadata": {},
   "source": [
    "**53-Write a Python program to replace the last value of tuples in a list.\n",
    "Sample list: [(10, 20, 40), (40, 50, 60), (70, 80, 90)]\n",
    "Expected Output: [(10, 20, 100), (40, 50, 100), (70, 80, 100)]"
   ]
  },
  {
   "cell_type": "code",
   "execution_count": 98,
   "id": "3c4a2a4c",
   "metadata": {
    "ExecuteTime": {
     "end_time": "2023-06-09T12:44:35.681756Z",
     "start_time": "2023-06-09T12:44:35.666752Z"
    }
   },
   "outputs": [
    {
     "name": "stdout",
     "output_type": "stream",
     "text": [
      "[(10, 20, 100), (40, 50, 100), (70, 80, 100)]\n"
     ]
    }
   ],
   "source": [
    "l = [(10, 20, 40), (40, 50, 60), (70, 80, 90)]\n",
    "print([t[:-1] + (100,) for t in l])"
   ]
  },
  {
   "cell_type": "markdown",
   "id": "76bb7b39",
   "metadata": {},
   "source": [
    "**54-Write a Python program to convert a given string list to a tuple\n",
    "Original string: python 3.0\n",
    "<class 'str'>\n",
    "Convert the said string to a tuple:\n",
    "('p', 'y', 't', 'h', 'o', 'n', '3', '.', '0')"
   ]
  },
  {
   "cell_type": "code",
   "execution_count": 99,
   "id": "51951937",
   "metadata": {
    "ExecuteTime": {
     "end_time": "2023-06-09T12:45:08.870013Z",
     "start_time": "2023-06-09T12:45:08.773012Z"
    }
   },
   "outputs": [
    {
     "name": "stdout",
     "output_type": "stream",
     "text": [
      "Original string:\n",
      "python 3.0\n",
      "<class 'str'>\n",
      "Convert the said string to a tuple:\n"
     ]
    },
    {
     "ename": "TypeError",
     "evalue": "'tuple' object is not callable",
     "output_type": "error",
     "traceback": [
      "\u001b[1;31m---------------------------------------------------------------------------\u001b[0m",
      "\u001b[1;31mTypeError\u001b[0m                                 Traceback (most recent call last)",
      "Cell \u001b[1;32mIn[99], line 9\u001b[0m\n\u001b[0;32m      7\u001b[0m \u001b[38;5;28mprint\u001b[39m(\u001b[38;5;28mtype\u001b[39m(str1))\n\u001b[0;32m      8\u001b[0m \u001b[38;5;28mprint\u001b[39m(\u001b[38;5;124m\"\u001b[39m\u001b[38;5;124mConvert the said string to a tuple:\u001b[39m\u001b[38;5;124m\"\u001b[39m) \n\u001b[1;32m----> 9\u001b[0m \u001b[38;5;28mprint\u001b[39m(\u001b[43mstring_list_to_tuple\u001b[49m\u001b[43m(\u001b[49m\u001b[43mstr1\u001b[49m\u001b[43m)\u001b[49m)\n\u001b[0;32m     10\u001b[0m \u001b[38;5;28mprint\u001b[39m(\u001b[38;5;28mtype\u001b[39m(string_list_to_tuple(str1)))\n",
      "Cell \u001b[1;32mIn[99], line 2\u001b[0m, in \u001b[0;36mstring_list_to_tuple\u001b[1;34m(str1)\u001b[0m\n\u001b[0;32m      1\u001b[0m \u001b[38;5;28;01mdef\u001b[39;00m \u001b[38;5;21mstring_list_to_tuple\u001b[39m(str1):\n\u001b[1;32m----> 2\u001b[0m     result \u001b[38;5;241m=\u001b[39m \u001b[38;5;28;43mtuple\u001b[39;49m\u001b[43m(\u001b[49m\u001b[43mx\u001b[49m\u001b[43m \u001b[49m\u001b[38;5;28;43;01mfor\u001b[39;49;00m\u001b[43m \u001b[49m\u001b[43mx\u001b[49m\u001b[43m \u001b[49m\u001b[38;5;129;43;01min\u001b[39;49;00m\u001b[43m \u001b[49m\u001b[43mstr1\u001b[49m\u001b[43m \u001b[49m\u001b[38;5;28;43;01mif\u001b[39;49;00m\u001b[43m \u001b[49m\u001b[38;5;129;43;01mnot\u001b[39;49;00m\u001b[43m \u001b[49m\u001b[43mx\u001b[49m\u001b[38;5;241;43m.\u001b[39;49m\u001b[43misspace\u001b[49m\u001b[43m(\u001b[49m\u001b[43m)\u001b[49m\u001b[43m)\u001b[49m \n\u001b[0;32m      3\u001b[0m     \u001b[38;5;28;01mreturn\u001b[39;00m result\n",
      "\u001b[1;31mTypeError\u001b[0m: 'tuple' object is not callable"
     ]
    }
   ],
   "source": [
    "def string_list_to_tuple(str1):\n",
    "    result = tuple(x for x in str1 if not x.isspace()) \n",
    "    return result\n",
    "str1 = \"python 3.0\"\n",
    "print(\"Original string:\")\n",
    "print(str1)\n",
    "print(type(str1))\n",
    "print(\"Convert the said string to a tuple:\") \n",
    "print(string_list_to_tuple(str1))\n",
    "print(type(string_list_to_tuple(str1)))"
   ]
  },
  {
   "cell_type": "markdown",
   "id": "5a1d5d97",
   "metadata": {},
   "source": [
    "**55-Write a Python program to calculate the average value of the numbers in a given tuple of tuples"
   ]
  },
  {
   "cell_type": "code",
   "execution_count": 101,
   "id": "834e7992",
   "metadata": {
    "ExecuteTime": {
     "end_time": "2023-06-09T12:49:31.533223Z",
     "start_time": "2023-06-09T12:49:31.512237Z"
    }
   },
   "outputs": [
    {
     "name": "stdout",
     "output_type": "stream",
     "text": [
      "Original Tuple: \n",
      "((10, 10, 10, 12), (30, 45, 56, 45), (81, 80, 39, 32), (1, 2, 3, 4))\n",
      "\n",
      "Average value of the numbers of the said tuple of tuples:\n",
      " [30.5, 34.25, 27.0, 23.25]\n"
     ]
    }
   ],
   "source": [
    "def average_tuple(nums):\n",
    "    result = [sum(x) / len(x) for x in zip(*nums)]\n",
    "    return result\n",
    "\n",
    "nums = ((10, 10, 10, 12), (30, 45, 56, 45), (81, 80, 39, 32), (1, 2, 3, 4))\n",
    "print (\"Original Tuple: \")\n",
    "print(nums)\n",
    "print(\"\\nAverage value of the numbers of the said tuple of tuples:\\n\",average_tuple(nums))\n"
   ]
  },
  {
   "cell_type": "markdown",
   "id": "51edab9c",
   "metadata": {},
   "source": [
    "**56-Write a Python program to add member(s) to a set."
   ]
  },
  {
   "cell_type": "code",
   "execution_count": 102,
   "id": "2b65df79",
   "metadata": {
    "ExecuteTime": {
     "end_time": "2023-06-09T12:50:00.059119Z",
     "start_time": "2023-06-09T12:50:00.046119Z"
    }
   },
   "outputs": [
    {
     "name": "stdout",
     "output_type": "stream",
     "text": [
      "set()\n",
      "\n",
      "Add single element:\n",
      "{'Red'}\n",
      "\n",
      "Add multiple items:\n",
      "{'Red', 'Blue', 'Green'}\n"
     ]
    }
   ],
   "source": [
    "color_set = set()\n",
    "print(color_set)\n",
    "print(\"\\nAdd single element:\")\n",
    "color_set.add(\"Red\")\n",
    "print(color_set)\n",
    "print(\"\\nAdd multiple items:\")\n",
    "color_set.update([\"Blue\", \"Green\"])\n",
    "print(color_set)"
   ]
  },
  {
   "cell_type": "markdown",
   "id": "965590cc",
   "metadata": {},
   "source": [
    "**57-Write a Python program to remove an item from a set if it is present in the set."
   ]
  },
  {
   "cell_type": "code",
   "execution_count": 105,
   "id": "866bab28",
   "metadata": {
    "ExecuteTime": {
     "end_time": "2023-06-09T12:51:34.091890Z",
     "start_time": "2023-06-09T12:51:34.074888Z"
    }
   },
   "outputs": [
    {
     "name": "stdout",
     "output_type": "stream",
     "text": [
      "Original set elements:\n",
      "{0, 1, 2, 3, 4, 5}\n",
      "\n",
      "Remove 0 from the said set:\n",
      "{0, 1, 2, 3, 5}\n",
      "\n",
      "Remove 5 from the said set:\n",
      "{0, 1, 2, 3}\n",
      "\n",
      "Remove 2 from the said set:\n",
      "{0, 1, 3}\n",
      "\n",
      "Remove 7 from the said set:\n",
      "{0, 1, 3}\n"
     ]
    }
   ],
   "source": [
    "num_set = set([0, 1, 2, 3, 4, 5])\n",
    "print(\"Original set elements:\")\n",
    "print(num_set)\n",
    "print(\"\\nRemove 0 from the said set:\")\n",
    "num_set.discard(4)\n",
    "print(num_set)\n",
    "print(\"\\nRemove 5 from the said set:\")\n",
    "num_set.discard(5)\n",
    "print(num_set)\n",
    "print(\"\\nRemove 2 from the said set:\")\n",
    "num_set.discard(2)\n",
    "print(num_set)\n",
    "print(\"\\nRemove 7 from the said set:\")\n",
    "num_set.discard(15)\n",
    "print(num_set)\n"
   ]
  },
  {
   "cell_type": "markdown",
   "id": "2b7cfed1",
   "metadata": {},
   "source": [
    "**58-Write a Python program to create an intersection,union,difference and symmetric difference of sets"
   ]
  },
  {
   "cell_type": "code",
   "execution_count": 106,
   "id": "7f94b7fe",
   "metadata": {
    "ExecuteTime": {
     "end_time": "2023-06-09T12:52:20.958553Z",
     "start_time": "2023-06-09T12:52:20.927554Z"
    }
   },
   "outputs": [
    {
     "name": "stdout",
     "output_type": "stream",
     "text": [
      "Original sets:\n",
      "{'green', 'blue'}\n",
      "{'yellow', 'blue'}\n",
      "\n",
      "Symmetric difference of setc1 - setc2:\n",
      "{'yellow', 'green'}\n",
      "\n",
      "Symmetric difference of setc2 - setc1:\n",
      "{'yellow', 'green'}\n",
      "\n",
      "Original sets:\n",
      "{1, 2, 3, 4, 5}\n",
      "{1, 5, 6, 7, 8, 9}\n",
      "\n",
      "Symmetric difference of setn1 - setn2:\n",
      "{2, 3, 4, 6, 7, 8, 9}\n",
      "\n",
      "Symmetric difference of setn2 - setn1:\n",
      "{2, 3, 4, 6, 7, 8, 9}\n"
     ]
    }
   ],
   "source": [
    "setc1 = set([\"green\", \"blue\"])\n",
    "setc2 = set([\"blue\", \"yellow\"])\n",
    "print(\"Original sets:\")\n",
    "print(setc1)\n",
    "print(setc2)\n",
    "r1 = setc1.symmetric_difference(setc2)\n",
    "print(\"\\nSymmetric difference of setc1 - setc2:\")\n",
    "print(r1)\n",
    "r2 = setc2.symmetric_difference(setc1)\n",
    "print(\"\\nSymmetric difference of setc2 - setc1:\")\n",
    "print(r2)\n",
    "setn1 = set([1, 1, 2, 3, 4, 5])\n",
    "setn2 = set([1, 5, 6, 7, 8, 9])\n",
    "print(\"\\nOriginal sets:\")\n",
    "print(setn1)\n",
    "print(setn2)\n",
    "r1 = setn1.symmetric_difference(setn2)\n",
    "print(\"\\nSymmetric difference of setn1 - setn2:\")\n",
    "print(r1)\n",
    "r2 = setn2.symmetric_difference(setn1)\n",
    "print(\"\\nSymmetric difference of setn2 - setn1:\")\n",
    "print(r2)"
   ]
  },
  {
   "cell_type": "markdown",
   "id": "b94931e2",
   "metadata": {},
   "source": [
    "**59-Write a Python program to find the maximum and minimum values in a set"
   ]
  },
  {
   "cell_type": "code",
   "execution_count": 112,
   "id": "203f9600",
   "metadata": {
    "ExecuteTime": {
     "end_time": "2023-06-09T12:53:57.360554Z",
     "start_time": "2023-06-09T12:53:57.338553Z"
    }
   },
   "outputs": [
    {
     "name": "stdout",
     "output_type": "stream",
     "text": [
      "Original set elements:\n",
      "{2, 3, 20, 5, 10, 15}\n",
      "<class 'set'>\n",
      "\n",
      "Maximum value of the said set:\n",
      "20\n",
      "\n",
      "Minimum value of the said set:\n",
      "2\n"
     ]
    }
   ],
   "source": [
    "setn = {5, 10, 3, 15, 2, 20}\n",
    "print(\"Original set elements:\")\n",
    "print(setn)\n",
    "print(type(setn))\n",
    "print(\"\\nMaximum value of the said set:\")\n",
    "print(max(setn))\n",
    "print(\"\\nMinimum value of the said set:\")\n",
    "print(min(setn))"
   ]
  },
  {
   "cell_type": "markdown",
   "id": "255fd554",
   "metadata": {},
   "source": [
    "**60- Write a Python program that finds all pairs of elements in a list whose sum is equal to a given value."
   ]
  },
  {
   "cell_type": "code",
   "execution_count": 116,
   "id": "c2d94e1f",
   "metadata": {
    "ExecuteTime": {
     "end_time": "2023-06-09T12:55:42.347261Z",
     "start_time": "2023-06-09T12:55:42.334258Z"
    }
   },
   "outputs": [
    {
     "name": "stdout",
     "output_type": "stream",
     "text": [
      "[(5, 7), (3, 9)]\n"
     ]
    }
   ],
   "source": [
    "def findPairs(lst, K):\n",
    "    res = []\n",
    "    while lst:\n",
    "        num = lst.pop()\n",
    "        diff = K - num\n",
    "        if diff in lst:\n",
    "            res.append((diff, num))\n",
    "         \n",
    "    res.reverse()\n",
    "    return res\n",
    "\n",
    "lst = [1, 5, 3, 7, 9]\n",
    "K = 12\n",
    "print(findPairs(lst, K))"
   ]
  }
 ],
 "metadata": {
  "kernelspec": {
   "display_name": "Python 3 (ipykernel)",
   "language": "python",
   "name": "python3"
  },
  "language_info": {
   "codemirror_mode": {
    "name": "ipython",
    "version": 3
   },
   "file_extension": ".py",
   "mimetype": "text/x-python",
   "name": "python",
   "nbconvert_exporter": "python",
   "pygments_lexer": "ipython3",
   "version": "3.9.13"
  },
  "varInspector": {
   "cols": {
    "lenName": 16,
    "lenType": 16,
    "lenVar": 40
   },
   "kernels_config": {
    "python": {
     "delete_cmd_postfix": "",
     "delete_cmd_prefix": "del ",
     "library": "var_list.py",
     "varRefreshCmd": "print(var_dic_list())"
    },
    "r": {
     "delete_cmd_postfix": ") ",
     "delete_cmd_prefix": "rm(",
     "library": "var_list.r",
     "varRefreshCmd": "cat(var_dic_list()) "
    }
   },
   "types_to_exclude": [
    "module",
    "function",
    "builtin_function_or_method",
    "instance",
    "_Feature"
   ],
   "window_display": false
  },
  "vscode": {
   "interpreter": {
    "hash": "8cf98caf7906059bdc6eab1429ff7dca77c9febdf84357fe29e9d222126841a6"
   }
  }
 },
 "nbformat": 4,
 "nbformat_minor": 5
}
